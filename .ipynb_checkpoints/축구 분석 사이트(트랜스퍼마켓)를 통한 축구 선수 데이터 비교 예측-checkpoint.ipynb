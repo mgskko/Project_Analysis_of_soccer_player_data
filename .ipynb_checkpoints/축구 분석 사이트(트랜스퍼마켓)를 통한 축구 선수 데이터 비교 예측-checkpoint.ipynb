{
 "cells": [
  {
   "cell_type": "code",
   "execution_count": 5,
   "id": "edbf62c9",
   "metadata": {},
   "outputs": [
    {
     "data": {
      "text/html": [
       "<div>\n",
       "<style scoped>\n",
       "    .dataframe tbody tr th:only-of-type {\n",
       "        vertical-align: middle;\n",
       "    }\n",
       "\n",
       "    .dataframe tbody tr th {\n",
       "        vertical-align: top;\n",
       "    }\n",
       "\n",
       "    .dataframe thead th {\n",
       "        text-align: right;\n",
       "    }\n",
       "</style>\n",
       "<table border=\"1\" class=\"dataframe\">\n",
       "  <thead>\n",
       "    <tr style=\"text-align: right;\">\n",
       "      <th></th>\n",
       "      <th>순위</th>\n",
       "      <th>이름</th>\n",
       "      <th>포지션</th>\n",
       "      <th>나이</th>\n",
       "      <th>국가</th>\n",
       "      <th>팀</th>\n",
       "      <th>몸값</th>\n",
       "      <th>count</th>\n",
       "    </tr>\n",
       "  </thead>\n",
       "  <tbody>\n",
       "    <tr>\n",
       "      <th>0</th>\n",
       "      <td>1</td>\n",
       "      <td>Erling Haaland</td>\n",
       "      <td>Centre-Forward</td>\n",
       "      <td>23</td>\n",
       "      <td>Norway</td>\n",
       "      <td>Manchester City</td>\n",
       "      <td>€180.00m</td>\n",
       "      <td>1</td>\n",
       "    </tr>\n",
       "    <tr>\n",
       "      <th>1</th>\n",
       "      <td>2</td>\n",
       "      <td>Kylian Mbappé</td>\n",
       "      <td>Centre-Forward</td>\n",
       "      <td>24</td>\n",
       "      <td>France</td>\n",
       "      <td>Paris Saint-Germain</td>\n",
       "      <td>€180.00m</td>\n",
       "      <td>1</td>\n",
       "    </tr>\n",
       "    <tr>\n",
       "      <th>2</th>\n",
       "      <td>3</td>\n",
       "      <td>Vinicius Junior</td>\n",
       "      <td>Left Winger</td>\n",
       "      <td>23</td>\n",
       "      <td>Brazil</td>\n",
       "      <td>Real Madrid</td>\n",
       "      <td>€150.00m</td>\n",
       "      <td>2</td>\n",
       "    </tr>\n",
       "    <tr>\n",
       "      <th>3</th>\n",
       "      <td>4</td>\n",
       "      <td>Jude Bellingham</td>\n",
       "      <td>Central Midfield</td>\n",
       "      <td>20</td>\n",
       "      <td>England</td>\n",
       "      <td>Real Madrid</td>\n",
       "      <td>€120.00m</td>\n",
       "      <td>1</td>\n",
       "    </tr>\n",
       "    <tr>\n",
       "      <th>4</th>\n",
       "      <td>5</td>\n",
       "      <td>Bukayo Saka</td>\n",
       "      <td>Right Winger</td>\n",
       "      <td>22</td>\n",
       "      <td>England</td>\n",
       "      <td>Arsenal FC</td>\n",
       "      <td>€120.00m</td>\n",
       "      <td>1</td>\n",
       "    </tr>\n",
       "  </tbody>\n",
       "</table>\n",
       "</div>"
      ],
      "text/plain": [
       "   순위               이름               포지션  나이       국가                    팀  \\\n",
       "0   1   Erling Haaland    Centre-Forward  23   Norway      Manchester City   \n",
       "1   2    Kylian Mbappé    Centre-Forward  24   France  Paris Saint-Germain   \n",
       "2   3  Vinicius Junior       Left Winger  23   Brazil          Real Madrid   \n",
       "3   4  Jude Bellingham  Central Midfield  20  England          Real Madrid   \n",
       "4   5      Bukayo Saka      Right Winger  22  England           Arsenal FC   \n",
       "\n",
       "         몸값  count  \n",
       "0  €180.00m      1  \n",
       "1  €180.00m      1  \n",
       "2  €150.00m      2  \n",
       "3  €120.00m      1  \n",
       "4  €120.00m      1  "
      ]
     },
     "execution_count": 5,
     "metadata": {},
     "output_type": "execute_result"
    }
   ],
   "source": [
    "import pandas as pd\n",
    "\n",
    "# CSV 파일을 DataFrame으로 로드\n",
    "df = pd.read_csv('transfer.csv')\n",
    "\n",
    "# 데이터 확인 (예시: 처음 5개 행 출력)\n",
    "df.head()\n"
   ]
  },
  {
   "cell_type": "code",
   "execution_count": 13,
   "id": "51568616",
   "metadata": {},
   "outputs": [
    {
     "name": "stdout",
     "output_type": "stream",
     "text": [
      "나이를 입력하세요: 23\n",
      "23.0세 선수의 몸값 예측: €38.10m\n"
     ]
    },
    {
     "name": "stderr",
     "output_type": "stream",
     "text": [
      "C:\\Users\\User\\anaconda3\\lib\\site-packages\\sklearn\\base.py:420: UserWarning: X does not have valid feature names, but LinearRegression was fitted with feature names\n",
      "  warnings.warn(\n"
     ]
    }
   ],
   "source": [
    "import pandas as pd\n",
    "from sklearn.linear_model import LinearRegression\n",
    "\n",
    "# 데이터 로드\n",
    "data = pd.read_csv('선수데이터.csv')\n",
    "\n",
    "# '몸값' 열에서 '€' 및 'm' 문자 제거 및 숫자로 변환\n",
    "data['몸값'] = data['몸값'].str.replace('€', '').str.replace('m', '').astype(float)\n",
    "\n",
    "# 나이와 몸값 열 선택\n",
    "X = data[['나이']]\n",
    "y = data['몸값']\n",
    "\n",
    "# 선형 회귀 모델 생성 및 학습\n",
    "model = LinearRegression()\n",
    "model.fit(X, y)\n",
    "\n",
    "# 나이를 입력받아 몸값 예측\n",
    "age_to_predict = float(input(\"나이를 입력하세요: \"))\n",
    "predicted_value = model.predict([[age_to_predict]])\n",
    "print(f'{age_to_predict}세 선수의 몸값 예측: €{predicted_value[0]:.2f}m')\n"
   ]
  }
 ],
 "metadata": {
  "kernelspec": {
   "display_name": "Python 3 (ipykernel)",
   "language": "python",
   "name": "python3"
  },
  "language_info": {
   "codemirror_mode": {
    "name": "ipython",
    "version": 3
   },
   "file_extension": ".py",
   "mimetype": "text/x-python",
   "name": "python",
   "nbconvert_exporter": "python",
   "pygments_lexer": "ipython3",
   "version": "3.10.9"
  }
 },
 "nbformat": 4,
 "nbformat_minor": 5
}
